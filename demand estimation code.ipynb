{
  "cells": [
    {
      "cell_type": "markdown",
      "metadata": {
        "id": "0ShVTLEUbFR3"
      },
      "source": [
        "## Estimating Demand function"
      ]
    },
    {
      "cell_type": "code",
      "execution_count": 1,
      "metadata": {
        "colab": {
          "base_uri": "https://localhost:8080/",
          "height": 424
        },
        "id": "JtSxxJkDVu_b",
        "outputId": "e0152298-e9e8-47c0-9ce1-1b346d9f6e92"
      },
      "outputs": [
        {
          "output_type": "execute_result",
          "data": {
            "text/plain": [
              "     Mon  Tue  Wed  Thu    Date  Stormy  Mixed         p         q  Rainy  \\\n",
              "0      1    0    0    0  911202       1      0 -0.430783  8.994421      1   \n",
              "1      0    1    0    0  911203       1      0  0.000000  7.707063      0   \n",
              "2      0    0    1    0  911204       0      1  0.072321  8.350194      1   \n",
              "3      0    0    0    1  911205       1      0  0.247139  8.656955      0   \n",
              "4      0    0    0    0  911206       1      0  0.664327  7.844241      0   \n",
              "..   ...  ...  ...  ...     ...     ...    ...       ...       ...    ...   \n",
              "106    1    0    0    0  920504       0      0 -0.798508  8.610683      0   \n",
              "107    0    1    0    0  920505       0      1 -0.087011  7.162397      0   \n",
              "108    0    0    1    0  920506       0      1  0.184922  7.362010      0   \n",
              "109    0    0    0    1  920507       0      1  0.223143  8.764053      0   \n",
              "110    0    0    0    0  920508       0      1  0.561118  8.328451      0   \n",
              "\n",
              "     Cold      Wind  \n",
              "0       0  2.995732  \n",
              "1       0  2.995732  \n",
              "2       1  2.813411  \n",
              "3       1  3.036554  \n",
              "4       1  3.036554  \n",
              "..    ...       ...  \n",
              "106     0  2.862201  \n",
              "107     0  2.908721  \n",
              "108     0  2.862201  \n",
              "109     0  2.813411  \n",
              "110     0  2.862201  \n",
              "\n",
              "[111 rows x 12 columns]"
            ],
            "text/html": [
              "\n",
              "  <div id=\"df-3d44bea0-15dd-45a0-8219-d4c64f452b44\">\n",
              "    <div class=\"colab-df-container\">\n",
              "      <div>\n",
              "<style scoped>\n",
              "    .dataframe tbody tr th:only-of-type {\n",
              "        vertical-align: middle;\n",
              "    }\n",
              "\n",
              "    .dataframe tbody tr th {\n",
              "        vertical-align: top;\n",
              "    }\n",
              "\n",
              "    .dataframe thead th {\n",
              "        text-align: right;\n",
              "    }\n",
              "</style>\n",
              "<table border=\"1\" class=\"dataframe\">\n",
              "  <thead>\n",
              "    <tr style=\"text-align: right;\">\n",
              "      <th></th>\n",
              "      <th>Mon</th>\n",
              "      <th>Tue</th>\n",
              "      <th>Wed</th>\n",
              "      <th>Thu</th>\n",
              "      <th>Date</th>\n",
              "      <th>Stormy</th>\n",
              "      <th>Mixed</th>\n",
              "      <th>p</th>\n",
              "      <th>q</th>\n",
              "      <th>Rainy</th>\n",
              "      <th>Cold</th>\n",
              "      <th>Wind</th>\n",
              "    </tr>\n",
              "  </thead>\n",
              "  <tbody>\n",
              "    <tr>\n",
              "      <th>0</th>\n",
              "      <td>1</td>\n",
              "      <td>0</td>\n",
              "      <td>0</td>\n",
              "      <td>0</td>\n",
              "      <td>911202</td>\n",
              "      <td>1</td>\n",
              "      <td>0</td>\n",
              "      <td>-0.430783</td>\n",
              "      <td>8.994421</td>\n",
              "      <td>1</td>\n",
              "      <td>0</td>\n",
              "      <td>2.995732</td>\n",
              "    </tr>\n",
              "    <tr>\n",
              "      <th>1</th>\n",
              "      <td>0</td>\n",
              "      <td>1</td>\n",
              "      <td>0</td>\n",
              "      <td>0</td>\n",
              "      <td>911203</td>\n",
              "      <td>1</td>\n",
              "      <td>0</td>\n",
              "      <td>0.000000</td>\n",
              "      <td>7.707063</td>\n",
              "      <td>0</td>\n",
              "      <td>0</td>\n",
              "      <td>2.995732</td>\n",
              "    </tr>\n",
              "    <tr>\n",
              "      <th>2</th>\n",
              "      <td>0</td>\n",
              "      <td>0</td>\n",
              "      <td>1</td>\n",
              "      <td>0</td>\n",
              "      <td>911204</td>\n",
              "      <td>0</td>\n",
              "      <td>1</td>\n",
              "      <td>0.072321</td>\n",
              "      <td>8.350194</td>\n",
              "      <td>1</td>\n",
              "      <td>1</td>\n",
              "      <td>2.813411</td>\n",
              "    </tr>\n",
              "    <tr>\n",
              "      <th>3</th>\n",
              "      <td>0</td>\n",
              "      <td>0</td>\n",
              "      <td>0</td>\n",
              "      <td>1</td>\n",
              "      <td>911205</td>\n",
              "      <td>1</td>\n",
              "      <td>0</td>\n",
              "      <td>0.247139</td>\n",
              "      <td>8.656955</td>\n",
              "      <td>0</td>\n",
              "      <td>1</td>\n",
              "      <td>3.036554</td>\n",
              "    </tr>\n",
              "    <tr>\n",
              "      <th>4</th>\n",
              "      <td>0</td>\n",
              "      <td>0</td>\n",
              "      <td>0</td>\n",
              "      <td>0</td>\n",
              "      <td>911206</td>\n",
              "      <td>1</td>\n",
              "      <td>0</td>\n",
              "      <td>0.664327</td>\n",
              "      <td>7.844241</td>\n",
              "      <td>0</td>\n",
              "      <td>1</td>\n",
              "      <td>3.036554</td>\n",
              "    </tr>\n",
              "    <tr>\n",
              "      <th>...</th>\n",
              "      <td>...</td>\n",
              "      <td>...</td>\n",
              "      <td>...</td>\n",
              "      <td>...</td>\n",
              "      <td>...</td>\n",
              "      <td>...</td>\n",
              "      <td>...</td>\n",
              "      <td>...</td>\n",
              "      <td>...</td>\n",
              "      <td>...</td>\n",
              "      <td>...</td>\n",
              "      <td>...</td>\n",
              "    </tr>\n",
              "    <tr>\n",
              "      <th>106</th>\n",
              "      <td>1</td>\n",
              "      <td>0</td>\n",
              "      <td>0</td>\n",
              "      <td>0</td>\n",
              "      <td>920504</td>\n",
              "      <td>0</td>\n",
              "      <td>0</td>\n",
              "      <td>-0.798508</td>\n",
              "      <td>8.610683</td>\n",
              "      <td>0</td>\n",
              "      <td>0</td>\n",
              "      <td>2.862201</td>\n",
              "    </tr>\n",
              "    <tr>\n",
              "      <th>107</th>\n",
              "      <td>0</td>\n",
              "      <td>1</td>\n",
              "      <td>0</td>\n",
              "      <td>0</td>\n",
              "      <td>920505</td>\n",
              "      <td>0</td>\n",
              "      <td>1</td>\n",
              "      <td>-0.087011</td>\n",
              "      <td>7.162397</td>\n",
              "      <td>0</td>\n",
              "      <td>0</td>\n",
              "      <td>2.908721</td>\n",
              "    </tr>\n",
              "    <tr>\n",
              "      <th>108</th>\n",
              "      <td>0</td>\n",
              "      <td>0</td>\n",
              "      <td>1</td>\n",
              "      <td>0</td>\n",
              "      <td>920506</td>\n",
              "      <td>0</td>\n",
              "      <td>1</td>\n",
              "      <td>0.184922</td>\n",
              "      <td>7.362010</td>\n",
              "      <td>0</td>\n",
              "      <td>0</td>\n",
              "      <td>2.862201</td>\n",
              "    </tr>\n",
              "    <tr>\n",
              "      <th>109</th>\n",
              "      <td>0</td>\n",
              "      <td>0</td>\n",
              "      <td>0</td>\n",
              "      <td>1</td>\n",
              "      <td>920507</td>\n",
              "      <td>0</td>\n",
              "      <td>1</td>\n",
              "      <td>0.223143</td>\n",
              "      <td>8.764053</td>\n",
              "      <td>0</td>\n",
              "      <td>0</td>\n",
              "      <td>2.813411</td>\n",
              "    </tr>\n",
              "    <tr>\n",
              "      <th>110</th>\n",
              "      <td>0</td>\n",
              "      <td>0</td>\n",
              "      <td>0</td>\n",
              "      <td>0</td>\n",
              "      <td>920508</td>\n",
              "      <td>0</td>\n",
              "      <td>1</td>\n",
              "      <td>0.561118</td>\n",
              "      <td>8.328451</td>\n",
              "      <td>0</td>\n",
              "      <td>0</td>\n",
              "      <td>2.862201</td>\n",
              "    </tr>\n",
              "  </tbody>\n",
              "</table>\n",
              "<p>111 rows × 12 columns</p>\n",
              "</div>\n",
              "      <button class=\"colab-df-convert\" onclick=\"convertToInteractive('df-3d44bea0-15dd-45a0-8219-d4c64f452b44')\"\n",
              "              title=\"Convert this dataframe to an interactive table.\"\n",
              "              style=\"display:none;\">\n",
              "        \n",
              "  <svg xmlns=\"http://www.w3.org/2000/svg\" height=\"24px\"viewBox=\"0 0 24 24\"\n",
              "       width=\"24px\">\n",
              "    <path d=\"M0 0h24v24H0V0z\" fill=\"none\"/>\n",
              "    <path d=\"M18.56 5.44l.94 2.06.94-2.06 2.06-.94-2.06-.94-.94-2.06-.94 2.06-2.06.94zm-11 1L8.5 8.5l.94-2.06 2.06-.94-2.06-.94L8.5 2.5l-.94 2.06-2.06.94zm10 10l.94 2.06.94-2.06 2.06-.94-2.06-.94-.94-2.06-.94 2.06-2.06.94z\"/><path d=\"M17.41 7.96l-1.37-1.37c-.4-.4-.92-.59-1.43-.59-.52 0-1.04.2-1.43.59L10.3 9.45l-7.72 7.72c-.78.78-.78 2.05 0 2.83L4 21.41c.39.39.9.59 1.41.59.51 0 1.02-.2 1.41-.59l7.78-7.78 2.81-2.81c.8-.78.8-2.07 0-2.86zM5.41 20L4 18.59l7.72-7.72 1.47 1.35L5.41 20z\"/>\n",
              "  </svg>\n",
              "      </button>\n",
              "      \n",
              "  <style>\n",
              "    .colab-df-container {\n",
              "      display:flex;\n",
              "      flex-wrap:wrap;\n",
              "      gap: 12px;\n",
              "    }\n",
              "\n",
              "    .colab-df-convert {\n",
              "      background-color: #E8F0FE;\n",
              "      border: none;\n",
              "      border-radius: 50%;\n",
              "      cursor: pointer;\n",
              "      display: none;\n",
              "      fill: #1967D2;\n",
              "      height: 32px;\n",
              "      padding: 0 0 0 0;\n",
              "      width: 32px;\n",
              "    }\n",
              "\n",
              "    .colab-df-convert:hover {\n",
              "      background-color: #E2EBFA;\n",
              "      box-shadow: 0px 1px 2px rgba(60, 64, 67, 0.3), 0px 1px 3px 1px rgba(60, 64, 67, 0.15);\n",
              "      fill: #174EA6;\n",
              "    }\n",
              "\n",
              "    [theme=dark] .colab-df-convert {\n",
              "      background-color: #3B4455;\n",
              "      fill: #D2E3FC;\n",
              "    }\n",
              "\n",
              "    [theme=dark] .colab-df-convert:hover {\n",
              "      background-color: #434B5C;\n",
              "      box-shadow: 0px 1px 3px 1px rgba(0, 0, 0, 0.15);\n",
              "      filter: drop-shadow(0px 1px 2px rgba(0, 0, 0, 0.3));\n",
              "      fill: #FFFFFF;\n",
              "    }\n",
              "  </style>\n",
              "\n",
              "      <script>\n",
              "        const buttonEl =\n",
              "          document.querySelector('#df-3d44bea0-15dd-45a0-8219-d4c64f452b44 button.colab-df-convert');\n",
              "        buttonEl.style.display =\n",
              "          google.colab.kernel.accessAllowed ? 'block' : 'none';\n",
              "\n",
              "        async function convertToInteractive(key) {\n",
              "          const element = document.querySelector('#df-3d44bea0-15dd-45a0-8219-d4c64f452b44');\n",
              "          const dataTable =\n",
              "            await google.colab.kernel.invokeFunction('convertToInteractive',\n",
              "                                                     [key], {});\n",
              "          if (!dataTable) return;\n",
              "\n",
              "          const docLinkHtml = 'Like what you see? Visit the ' +\n",
              "            '<a target=\"_blank\" href=https://colab.research.google.com/notebooks/data_table.ipynb>data table notebook</a>'\n",
              "            + ' to learn more about interactive tables.';\n",
              "          element.innerHTML = '';\n",
              "          dataTable['output_type'] = 'display_data';\n",
              "          await google.colab.output.renderOutput(dataTable, element);\n",
              "          const docLink = document.createElement('div');\n",
              "          docLink.innerHTML = docLinkHtml;\n",
              "          element.appendChild(docLink);\n",
              "        }\n",
              "      </script>\n",
              "    </div>\n",
              "  </div>\n",
              "  "
            ]
          },
          "metadata": {},
          "execution_count": 1
        }
      ],
      "source": [
        "import pandas as pd\n",
        "data = pd.read_csv('Data-GP1.csv')\n",
        "data"
      ]
    },
    {
      "cell_type": "code",
      "execution_count": 2,
      "metadata": {
        "id": "-C2PKsb78mzr"
      },
      "outputs": [],
      "source": [
        "#Defining variables\n",
        "y = data[['q']] # Quantity estimate for demand function\n",
        "y1 = data[['p']] # Price"
      ]
    },
    {
      "cell_type": "markdown",
      "metadata": {
        "id": "NMTLKGxObFR8"
      },
      "source": [
        "### Equation that we are estimating is Qd = beta0 + beta1 x price + sumprod(Days x gamma) + u1"
      ]
    },
    {
      "cell_type": "code",
      "execution_count": 3,
      "metadata": {
        "colab": {
          "base_uri": "https://localhost:8080/"
        },
        "id": "yFv8El-VbFR8",
        "outputId": "2a3f549e-7b5b-486a-8515-8dff5535d88e"
      },
      "outputs": [
        {
          "output_type": "stream",
          "name": "stdout",
          "text": [
            "     Mon  Tue  Wed  Thu\n",
            "0      1    0    0    0\n",
            "1      0    1    0    0\n",
            "2      0    0    1    0\n",
            "3      0    0    0    1\n",
            "4      0    0    0    0\n",
            "..   ...  ...  ...  ...\n",
            "106    1    0    0    0\n",
            "107    0    1    0    0\n",
            "108    0    0    1    0\n",
            "109    0    0    0    1\n",
            "110    0    0    0    0\n",
            "\n",
            "[111 rows x 4 columns]\n"
          ]
        }
      ],
      "source": [
        "z1 = data[['Mon', 'Tue', 'Wed', 'Thu']] #Exogenous variables\n",
        "print(z1)"
      ]
    },
    {
      "cell_type": "code",
      "source": [
        "zsm =  data[['Mon','Tue','Wed','Thu','Stormy', 'Mixed']]"
      ],
      "metadata": {
        "id": "z9O2-zTjP2Vn"
      },
      "execution_count": 27,
      "outputs": []
    },
    {
      "cell_type": "code",
      "execution_count": 16,
      "metadata": {
        "id": "tvUNjMT2bFR9"
      },
      "outputs": [],
      "source": [
        "# Assuming that price is the endogenous variable\n",
        "# We can assume that price is related to certain weather conditions. Here considering - Stormy, Mixed, Rainy, Cold, Wind\n",
        "# Hence we consider these as the instrument variables\n",
        "listz = ['Mon','Tue','Wed','Thu','Stormy','Wind','Rainy','Mixed','Cold'] #added more variables 'mixed' and 'cold'"
      ]
    },
    {
      "cell_type": "code",
      "execution_count": 28,
      "metadata": {
        "colab": {
          "base_uri": "https://localhost:8080/"
        },
        "id": "R4vX4PotbFR9",
        "outputId": "4e260adc-f9cc-4b4a-eaf8-50960e87b552"
      },
      "outputs": [
        {
          "output_type": "stream",
          "name": "stdout",
          "text": [
            "                            OLS Regression Results                            \n",
            "==============================================================================\n",
            "Dep. Variable:                      p   R-squared:                       0.245\n",
            "Model:                            OLS   Adj. R-squared:                  0.201\n",
            "Method:                 Least Squares   F-statistic:                     5.624\n",
            "Date:                Wed, 21 Sep 2022   Prob (F-statistic):           4.35e-05\n",
            "Time:                        09:17:26   Log-Likelihood:                -34.566\n",
            "No. Observations:                 111   AIC:                             83.13\n",
            "Df Residuals:                     104   BIC:                             102.1\n",
            "Df Model:                           6                                         \n",
            "Covariance Type:            nonrobust                                         \n",
            "==============================================================================\n",
            "                 coef    std err          t      P>|t|      [0.025      0.975]\n",
            "------------------------------------------------------------------------------\n",
            "const         -0.3596      0.079     -4.543      0.000      -0.517      -0.203\n",
            "Mon           -0.1082      0.103     -1.047      0.298      -0.313       0.097\n",
            "Tue           -0.0661      0.101     -0.654      0.514      -0.266       0.134\n",
            "Wed           -0.0493      0.104     -0.475      0.636      -0.255       0.157\n",
            "Thu            0.0393      0.101      0.391      0.697      -0.160       0.239\n",
            "Stormy         0.4463      0.079      5.635      0.000       0.289       0.603\n",
            "Mixed          0.2369      0.079      3.017      0.003       0.081       0.393\n",
            "==============================================================================\n",
            "Omnibus:                        2.130   Durbin-Watson:                   0.697\n",
            "Prob(Omnibus):                  0.345   Jarque-Bera (JB):                1.994\n",
            "Skew:                          -0.326   Prob(JB):                        0.369\n",
            "Kurtosis:                       2.924   Cond. No.                         6.20\n",
            "==============================================================================\n",
            "\n",
            "Notes:\n",
            "[1] Standard Errors assume that the covariance matrix of the errors is correctly specified.\n"
          ]
        },
        {
          "output_type": "stream",
          "name": "stderr",
          "text": [
            "/usr/local/lib/python3.7/dist-packages/statsmodels/tsa/tsatools.py:142: FutureWarning: In a future version of pandas all arguments of concat except for the argument 'objs' will be keyword-only\n",
            "  x = pd.concat(x[::order], 1)\n"
          ]
        }
      ],
      "source": [
        "import statsmodels.api as sm\n",
        "# z = data[listz]\n",
        "zsm = sm.add_constant(zsm)\n",
        "reduced_form = sm.OLS(y1, zsm).fit()\n",
        "print(reduced_form.summary())"
      ]
    },
    {
      "cell_type": "code",
      "execution_count": null,
      "metadata": {
        "id": "6WgHS7wxbFR9"
      },
      "outputs": [],
      "source": [
        "# Here, p values of Wind is less than 0.05. So price is heavily dependant on this instrument variable\n",
        "# Their F- statistic is significant or they are highly correlated to the price."
      ]
    },
    {
      "cell_type": "code",
      "execution_count": 29,
      "metadata": {
        "colab": {
          "base_uri": "https://localhost:8080/",
          "height": 424
        },
        "id": "r54iqeLqbFR-",
        "outputId": "806d5f1f-9163-4819-93e4-7f3d90e8313c"
      },
      "outputs": [
        {
          "output_type": "execute_result",
          "data": {
            "text/plain": [
              "       hat_y1\n",
              "0   -0.021478\n",
              "1    0.020678\n",
              "2   -0.171967\n",
              "3    0.126117\n",
              "4    0.086770\n",
              "..        ...\n",
              "106 -0.467817\n",
              "107 -0.188785\n",
              "108 -0.171967\n",
              "109 -0.083347\n",
              "110 -0.122693\n",
              "\n",
              "[111 rows x 1 columns]"
            ],
            "text/html": [
              "\n",
              "  <div id=\"df-99f18608-78f9-4ba7-a401-12f57596af87\">\n",
              "    <div class=\"colab-df-container\">\n",
              "      <div>\n",
              "<style scoped>\n",
              "    .dataframe tbody tr th:only-of-type {\n",
              "        vertical-align: middle;\n",
              "    }\n",
              "\n",
              "    .dataframe tbody tr th {\n",
              "        vertical-align: top;\n",
              "    }\n",
              "\n",
              "    .dataframe thead th {\n",
              "        text-align: right;\n",
              "    }\n",
              "</style>\n",
              "<table border=\"1\" class=\"dataframe\">\n",
              "  <thead>\n",
              "    <tr style=\"text-align: right;\">\n",
              "      <th></th>\n",
              "      <th>hat_y1</th>\n",
              "    </tr>\n",
              "  </thead>\n",
              "  <tbody>\n",
              "    <tr>\n",
              "      <th>0</th>\n",
              "      <td>-0.021478</td>\n",
              "    </tr>\n",
              "    <tr>\n",
              "      <th>1</th>\n",
              "      <td>0.020678</td>\n",
              "    </tr>\n",
              "    <tr>\n",
              "      <th>2</th>\n",
              "      <td>-0.171967</td>\n",
              "    </tr>\n",
              "    <tr>\n",
              "      <th>3</th>\n",
              "      <td>0.126117</td>\n",
              "    </tr>\n",
              "    <tr>\n",
              "      <th>4</th>\n",
              "      <td>0.086770</td>\n",
              "    </tr>\n",
              "    <tr>\n",
              "      <th>...</th>\n",
              "      <td>...</td>\n",
              "    </tr>\n",
              "    <tr>\n",
              "      <th>106</th>\n",
              "      <td>-0.467817</td>\n",
              "    </tr>\n",
              "    <tr>\n",
              "      <th>107</th>\n",
              "      <td>-0.188785</td>\n",
              "    </tr>\n",
              "    <tr>\n",
              "      <th>108</th>\n",
              "      <td>-0.171967</td>\n",
              "    </tr>\n",
              "    <tr>\n",
              "      <th>109</th>\n",
              "      <td>-0.083347</td>\n",
              "    </tr>\n",
              "    <tr>\n",
              "      <th>110</th>\n",
              "      <td>-0.122693</td>\n",
              "    </tr>\n",
              "  </tbody>\n",
              "</table>\n",
              "<p>111 rows × 1 columns</p>\n",
              "</div>\n",
              "      <button class=\"colab-df-convert\" onclick=\"convertToInteractive('df-99f18608-78f9-4ba7-a401-12f57596af87')\"\n",
              "              title=\"Convert this dataframe to an interactive table.\"\n",
              "              style=\"display:none;\">\n",
              "        \n",
              "  <svg xmlns=\"http://www.w3.org/2000/svg\" height=\"24px\"viewBox=\"0 0 24 24\"\n",
              "       width=\"24px\">\n",
              "    <path d=\"M0 0h24v24H0V0z\" fill=\"none\"/>\n",
              "    <path d=\"M18.56 5.44l.94 2.06.94-2.06 2.06-.94-2.06-.94-.94-2.06-.94 2.06-2.06.94zm-11 1L8.5 8.5l.94-2.06 2.06-.94-2.06-.94L8.5 2.5l-.94 2.06-2.06.94zm10 10l.94 2.06.94-2.06 2.06-.94-2.06-.94-.94-2.06-.94 2.06-2.06.94z\"/><path d=\"M17.41 7.96l-1.37-1.37c-.4-.4-.92-.59-1.43-.59-.52 0-1.04.2-1.43.59L10.3 9.45l-7.72 7.72c-.78.78-.78 2.05 0 2.83L4 21.41c.39.39.9.59 1.41.59.51 0 1.02-.2 1.41-.59l7.78-7.78 2.81-2.81c.8-.78.8-2.07 0-2.86zM5.41 20L4 18.59l7.72-7.72 1.47 1.35L5.41 20z\"/>\n",
              "  </svg>\n",
              "      </button>\n",
              "      \n",
              "  <style>\n",
              "    .colab-df-container {\n",
              "      display:flex;\n",
              "      flex-wrap:wrap;\n",
              "      gap: 12px;\n",
              "    }\n",
              "\n",
              "    .colab-df-convert {\n",
              "      background-color: #E8F0FE;\n",
              "      border: none;\n",
              "      border-radius: 50%;\n",
              "      cursor: pointer;\n",
              "      display: none;\n",
              "      fill: #1967D2;\n",
              "      height: 32px;\n",
              "      padding: 0 0 0 0;\n",
              "      width: 32px;\n",
              "    }\n",
              "\n",
              "    .colab-df-convert:hover {\n",
              "      background-color: #E2EBFA;\n",
              "      box-shadow: 0px 1px 2px rgba(60, 64, 67, 0.3), 0px 1px 3px 1px rgba(60, 64, 67, 0.15);\n",
              "      fill: #174EA6;\n",
              "    }\n",
              "\n",
              "    [theme=dark] .colab-df-convert {\n",
              "      background-color: #3B4455;\n",
              "      fill: #D2E3FC;\n",
              "    }\n",
              "\n",
              "    [theme=dark] .colab-df-convert:hover {\n",
              "      background-color: #434B5C;\n",
              "      box-shadow: 0px 1px 3px 1px rgba(0, 0, 0, 0.15);\n",
              "      filter: drop-shadow(0px 1px 2px rgba(0, 0, 0, 0.3));\n",
              "      fill: #FFFFFF;\n",
              "    }\n",
              "  </style>\n",
              "\n",
              "      <script>\n",
              "        const buttonEl =\n",
              "          document.querySelector('#df-99f18608-78f9-4ba7-a401-12f57596af87 button.colab-df-convert');\n",
              "        buttonEl.style.display =\n",
              "          google.colab.kernel.accessAllowed ? 'block' : 'none';\n",
              "\n",
              "        async function convertToInteractive(key) {\n",
              "          const element = document.querySelector('#df-99f18608-78f9-4ba7-a401-12f57596af87');\n",
              "          const dataTable =\n",
              "            await google.colab.kernel.invokeFunction('convertToInteractive',\n",
              "                                                     [key], {});\n",
              "          if (!dataTable) return;\n",
              "\n",
              "          const docLinkHtml = 'Like what you see? Visit the ' +\n",
              "            '<a target=\"_blank\" href=https://colab.research.google.com/notebooks/data_table.ipynb>data table notebook</a>'\n",
              "            + ' to learn more about interactive tables.';\n",
              "          element.innerHTML = '';\n",
              "          dataTable['output_type'] = 'display_data';\n",
              "          await google.colab.output.renderOutput(dataTable, element);\n",
              "          const docLink = document.createElement('div');\n",
              "          docLink.innerHTML = docLinkHtml;\n",
              "          element.appendChild(docLink);\n",
              "        }\n",
              "      </script>\n",
              "    </div>\n",
              "  </div>\n",
              "  "
            ]
          },
          "metadata": {},
          "execution_count": 29
        }
      ],
      "source": [
        "hat_y1_arr = reduced_form.fittedvalues\n",
        "hat_y1 = pd.DataFrame(hat_y1_arr, columns = ['hat_y1'])\n",
        "hat_y1"
      ]
    },
    {
      "cell_type": "code",
      "execution_count": 30,
      "metadata": {
        "colab": {
          "base_uri": "https://localhost:8080/"
        },
        "id": "Bnt2PAp3bFR-",
        "outputId": "386f4f91-54e7-4e0b-965d-8d071622874d"
      },
      "outputs": [
        {
          "output_type": "stream",
          "name": "stdout",
          "text": [
            "                            OLS Regression Results                            \n",
            "==============================================================================\n",
            "Dep. Variable:                      q   R-squared:                       0.191\n",
            "Model:                            OLS   Adj. R-squared:                  0.153\n",
            "Method:                 Least Squares   F-statistic:                     4.965\n",
            "Date:                Wed, 21 Sep 2022   Prob (F-statistic):           0.000403\n",
            "Time:                        09:18:16   Log-Likelihood:                -112.05\n",
            "No. Observations:                 111   AIC:                             236.1\n",
            "Df Residuals:                     105   BIC:                             252.4\n",
            "Df Model:                           5                                         \n",
            "Covariance Type:            nonrobust                                         \n",
            "==============================================================================\n",
            "                 coef    std err          t      P>|t|      [0.025      0.975]\n",
            "------------------------------------------------------------------------------\n",
            "const          8.5402      0.156     54.741      0.000       8.231       8.850\n",
            "hat_y1        -0.9301      0.352     -2.642      0.010      -1.628      -0.232\n",
            "Mon           -0.0119      0.208     -0.057      0.954      -0.423       0.400\n",
            "Tue           -0.5258      0.202     -2.609      0.010      -0.925      -0.126\n",
            "Wed           -0.5626      0.206     -2.729      0.007      -0.971      -0.154\n",
            "Thu            0.0999      0.202      0.494      0.622      -0.301       0.501\n",
            "==============================================================================\n",
            "Omnibus:                       15.211   Durbin-Watson:                   1.526\n",
            "Prob(Omnibus):                  0.000   Jarque-Bera (JB):               17.790\n",
            "Skew:                          -0.796   Prob(JB):                     0.000137\n",
            "Kurtosis:                       4.146   Cond. No.                         6.13\n",
            "==============================================================================\n",
            "\n",
            "Notes:\n",
            "[1] Standard Errors assume that the covariance matrix of the errors is correctly specified.\n",
            "-------------------------------\n"
          ]
        },
        {
          "output_type": "stream",
          "name": "stderr",
          "text": [
            "/usr/local/lib/python3.7/dist-packages/statsmodels/tsa/tsatools.py:142: FutureWarning: In a future version of pandas all arguments of concat except for the argument 'objs' will be keyword-only\n",
            "  x = pd.concat(x[::order], 1)\n"
          ]
        }
      ],
      "source": [
        "#Updating structural model using 2nd stage linear regression\n",
        "\n",
        "X = pd.concat([hat_y1, z1], axis=1)\n",
        "X = sm.add_constant(X)\n",
        "structuralModel = sm.OLS(y, X).fit()\n",
        "\n",
        "print(structuralModel.summary())\n",
        "print('-------------------------------')"
      ]
    },
    {
      "cell_type": "code",
      "execution_count": 31,
      "metadata": {
        "colab": {
          "base_uri": "https://localhost:8080/"
        },
        "id": "c8UxkWzCe3jn",
        "outputId": "fcc9ac39-66e4-46ed-9774-b4ea6b776014"
      },
      "outputs": [
        {
          "output_type": "stream",
          "name": "stdout",
          "text": [
            "        hat_v\n",
            "0   -0.409305\n",
            "1   -0.020678\n",
            "2    0.244287\n",
            "3    0.121022\n",
            "4    0.577557\n",
            "..        ...\n",
            "106 -0.330691\n",
            "107  0.101774\n",
            "108  0.356889\n",
            "109  0.306490\n",
            "110  0.683812\n",
            "\n",
            "[111 rows x 1 columns]\n",
            "     const         p  Mon  Tue  Wed  Thu     hat_v\n",
            "0      1.0 -0.430783    1    0    0    0 -0.409305\n",
            "1      1.0  0.000000    0    1    0    0 -0.020678\n",
            "2      1.0  0.072321    0    0    1    0  0.244287\n",
            "3      1.0  0.247139    0    0    0    1  0.121022\n",
            "4      1.0  0.664327    0    0    0    0  0.577557\n",
            "..     ...       ...  ...  ...  ...  ...       ...\n",
            "106    1.0 -0.798508    1    0    0    0 -0.330691\n",
            "107    1.0 -0.087011    0    1    0    0  0.101774\n",
            "108    1.0  0.184922    0    0    1    0  0.356889\n",
            "109    1.0  0.223143    0    0    0    1  0.306490\n",
            "110    1.0  0.561118    0    0    0    0  0.683812\n",
            "\n",
            "[111 rows x 7 columns]\n"
          ]
        },
        {
          "output_type": "stream",
          "name": "stderr",
          "text": [
            "/usr/local/lib/python3.7/dist-packages/statsmodels/tsa/tsatools.py:142: FutureWarning: In a future version of pandas all arguments of concat except for the argument 'objs' will be keyword-only\n",
            "  x = pd.concat(x[::order], 1)\n"
          ]
        }
      ],
      "source": [
        "# Hausman test\n",
        "hat_v = reduced_form.resid\n",
        "hat_v = pd.DataFrame(hat_v, columns = ['hat_v'])\n",
        "print(hat_v)\n",
        "struc_var = pd.concat([y1, z1, hat_v], axis=1)\n",
        "struc_var = sm.add_constant(struc_var)\n",
        "print(struc_var)"
      ]
    },
    {
      "cell_type": "code",
      "execution_count": 32,
      "metadata": {
        "colab": {
          "base_uri": "https://localhost:8080/"
        },
        "id": "PokO8nbCbFR_",
        "outputId": "74886367-1daf-4ee1-b8b8-713cf4d03618"
      },
      "outputs": [
        {
          "output_type": "stream",
          "name": "stdout",
          "text": [
            "                            OLS Regression Results                            \n",
            "==============================================================================\n",
            "Dep. Variable:                      q   R-squared:                       0.231\n",
            "Model:                            OLS   Adj. R-squared:                  0.187\n",
            "Method:                 Least Squares   F-statistic:                     5.221\n",
            "Date:                Wed, 21 Sep 2022   Prob (F-statistic):           9.83e-05\n",
            "Time:                        09:18:52   Log-Likelihood:                -109.21\n",
            "No. Observations:                 111   AIC:                             232.4\n",
            "Df Residuals:                     104   BIC:                             251.4\n",
            "Df Model:                           6                                         \n",
            "Covariance Type:            nonrobust                                         \n",
            "==============================================================================\n",
            "                 coef    std err          t      P>|t|      [0.025      0.975]\n",
            "------------------------------------------------------------------------------\n",
            "const          8.5402      0.153     55.889      0.000       8.237       8.843\n",
            "p             -0.9301      0.345     -2.697      0.008      -1.614      -0.246\n",
            "Mon           -0.0119      0.203     -0.059      0.953      -0.415       0.391\n",
            "Tue           -0.5258      0.197     -2.664      0.009      -0.917      -0.134\n",
            "Wed           -0.5626      0.202     -2.786      0.006      -0.963      -0.162\n",
            "Thu            0.0999      0.198      0.505      0.615      -0.293       0.492\n",
            "hat_v          0.4817      0.395      1.220      0.225      -0.301       1.264\n",
            "==============================================================================\n",
            "Omnibus:                       14.710   Durbin-Watson:                   1.483\n",
            "Prob(Omnibus):                  0.001   Jarque-Bera (JB):               16.477\n",
            "Skew:                          -0.814   Prob(JB):                     0.000264\n",
            "Kurtosis:                       3.956   Cond. No.                         8.87\n",
            "==============================================================================\n",
            "\n",
            "Notes:\n",
            "[1] Standard Errors assume that the covariance matrix of the errors is correctly specified.\n"
          ]
        }
      ],
      "source": [
        "# Hausman test\n",
        "structural_equation = sm.OLS(y, struc_var).fit()\n",
        "print(structural_equation.summary())"
      ]
    },
    {
      "cell_type": "code",
      "execution_count": null,
      "metadata": {
        "id": "tpCyDENgbFR_"
      },
      "outputs": [],
      "source": [
        "# Here p value of the coef of residual terms is more than 0.05\n",
        "# So we can not reject the null hypothesis that the price is indeed endogenous\n",
        "#Here p-value is coming as >0.185 so y could be exogenous and we could estimate using OLS."
      ]
    },
    {
      "cell_type": "code",
      "execution_count": 33,
      "metadata": {
        "colab": {
          "base_uri": "https://localhost:8080/"
        },
        "id": "XwtfEOoJbFR_",
        "outputId": "28d23b13-d6c3-460d-d081-e1acba5cf98f"
      },
      "outputs": [
        {
          "output_type": "stream",
          "name": "stdout",
          "text": [
            "0.0070097144318779225\n"
          ]
        }
      ],
      "source": [
        "# Sargan Test\n",
        "hat_u = structuralModel.resid\n",
        "SarganModel = sm.OLS(hat_u, zsm).fit()\n",
        "Rsquared = SarganModel.rsquared\n",
        "print(Rsquared)"
      ]
    },
    {
      "cell_type": "code",
      "execution_count": 34,
      "metadata": {
        "colab": {
          "base_uri": "https://localhost:8080/"
        },
        "id": "qwGUhAyzbFSA",
        "outputId": "ee544854-a975-48c0-e608-ff6ff976fa69"
      },
      "outputs": [
        {
          "output_type": "stream",
          "name": "stdout",
          "text": [
            "0.3777295084257589\n"
          ]
        }
      ],
      "source": [
        "from scipy import stats\n",
        "N = 111 # n is number of sample points\n",
        "pval = 1 - stats.chi2.cdf(N*Rsquared,1)\n",
        "print(pval)"
      ]
    },
    {
      "cell_type": "code",
      "execution_count": null,
      "metadata": {
        "id": "83CFmvuobFSA"
      },
      "outputs": [],
      "source": [
        "# p value is big, i.e. more than 0.05. So we can consider Stormy, Wind and Rainy as instrument variables"
      ]
    },
    {
      "cell_type": "code",
      "execution_count": 35,
      "metadata": {
        "colab": {
          "base_uri": "https://localhost:8080/"
        },
        "id": "5qqDE8lwbFSA",
        "outputId": "faa884a6-6085-4a01-922d-c29159c3050f"
      },
      "outputs": [
        {
          "output_type": "execute_result",
          "data": {
            "text/plain": [
              "const     8.540234\n",
              "hat_y1   -0.930141\n",
              "Mon      -0.011902\n",
              "Tue      -0.525832\n",
              "Wed      -0.562620\n",
              "Thu       0.099871\n",
              "dtype: float64"
            ]
          },
          "metadata": {},
          "execution_count": 35
        }
      ],
      "source": [
        "structuralModel.params"
      ]
    },
    {
      "cell_type": "markdown",
      "metadata": {
        "id": "K-NwE10mbFSA"
      },
      "source": [
        "### The Demand function can be considered as Qd = 8.5 - 1.12price - 0.02Mon - 0.53Tue - 0.57Wed + 0.11Thu"
      ]
    }
  ],
  "metadata": {
    "colab": {
      "provenance": []
    },
    "kernelspec": {
      "display_name": "Python 3 (ipykernel)",
      "language": "python",
      "name": "python3"
    },
    "language_info": {
      "codemirror_mode": {
        "name": "ipython",
        "version": 3
      },
      "file_extension": ".py",
      "mimetype": "text/x-python",
      "name": "python",
      "nbconvert_exporter": "python",
      "pygments_lexer": "ipython3",
      "version": "3.10.0"
    }
  },
  "nbformat": 4,
  "nbformat_minor": 0
}